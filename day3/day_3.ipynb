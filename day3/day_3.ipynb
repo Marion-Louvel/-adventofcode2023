{
 "cells": [
  {
   "cell_type": "code",
   "execution_count": 1,
   "id": "1399d893-4104-4e5e-beed-93e9a77c9244",
   "metadata": {},
   "outputs": [],
   "source": [
    "import re\n",
    "import numpy as np\n",
    "import pandas as pd \n"
   ]
  },
  {
   "cell_type": "code",
   "execution_count": 2,
   "id": "ee5d106c-75ed-46cf-8054-67101be27d0f",
   "metadata": {},
   "outputs": [],
   "source": [
    "with open('input.txt') as f:\n",
    "    lines = f.readlines()\n",
    "\n",
    "for i in range(len(lines)):\n",
    "    lines[i] = lines[i].replace(\"\\n\", \"\")"
   ]
  },
  {
   "cell_type": "code",
   "execution_count": 8,
   "id": "240ec463-3457-4991-9e49-88926af6284f",
   "metadata": {},
   "outputs": [
    {
     "name": "stdout",
     "output_type": "stream",
     "text": [
      "Part 1: 532445\n"
     ]
    }
   ],
   "source": [
    "output = []\n",
    "p1 = re.compile(\"\\d*\")\n",
    "\n",
    "for idx in range(len(lines)):\n",
    "    for m in p1.finditer(lines[idx]):\n",
    "        if m.group() != '':\n",
    "            value = int(m.group())\n",
    "    \n",
    "            try:\n",
    "                part1 = lines[idx][max(m.start()-1,0)]\n",
    "            except:\n",
    "                part1 = ''\n",
    "            try:\n",
    "                part2 = lines[idx][min(m.end(),len(lines[idx]))]\n",
    "            except:\n",
    "                part2 = ''\n",
    "            try:\n",
    "                part3 = lines[idx-1][max(m.start()-1,0):min(m.end()+1,len(lines[idx-1]))]\n",
    "            except:\n",
    "                part3 = ''\n",
    "            try:\n",
    "                part4 = lines[idx+1][max(m.start()-1,0):min(m.end()+1,len(lines[idx+1]))]\n",
    "            except:\n",
    "                part4 = ''\n",
    "\n",
    "            if bool(re.search(\"[^\\.\\d]\", part1+part2+part3+part4)):\n",
    "                output.append(value)\n",
    "\n",
    "print('Part 1: '+str(sum(output)))"
   ]
  },
  {
   "cell_type": "code",
   "execution_count": 7,
   "id": "566f6dbe-fb6e-45b3-be35-192a947c2b0f",
   "metadata": {},
   "outputs": [
    {
     "name": "stdout",
     "output_type": "stream",
     "text": [
      "Part 2: 79842967\n"
     ]
    }
   ],
   "source": [
    "p2 = re.compile(\"\\*\")\n",
    "\n",
    "res_val = {}\n",
    "res_gear = {}\n",
    "\n",
    "for idx, line in enumerate(lines):\n",
    "    res_val[idx] = {}\n",
    "    res_gear[idx] = {}\n",
    "    all_starts = []\n",
    "    all_ends = []\n",
    "    all_vals = []\n",
    "    gear_locs = []\n",
    "    \n",
    "    for i, m in enumerate(p1.finditer(lines[idx])):\n",
    "        if m.group() != '':\n",
    "            all_starts.append(m.start())\n",
    "            all_ends.append(m.end())\n",
    "            all_vals.append(m.group())\n",
    "    res_val[idx]['start'] = all_starts\n",
    "    res_val[idx]['end'] = all_ends\n",
    "    res_val[idx]['value'] = all_vals\n",
    "        \n",
    "\n",
    "    for m in p2.finditer(lines[idx]):\n",
    "        if m.group() != '':\n",
    "            gear_locs.append(m.start())\n",
    "    res_gear[idx]['gears'] = gear_locs \n",
    "\n",
    "all_ratios = []\n",
    "\n",
    "for key in res_val.keys():#res_val.keys(): \n",
    "    for gear in res_gear[key]['gears']:\n",
    "        try:\n",
    "            df_above = pd.DataFrame(res_val[key-1])\n",
    "            vals_above = [int(el) for el in df_above[(df_above.end >= gear) & ((df_above.start-1) <= gear)].value]\n",
    "        except:\n",
    "            vals_above = []\n",
    "        try:\n",
    "            df_below = pd.DataFrame(res_val[key+1])\n",
    "            vals_below = [int(el) for el in df_below[(df_below.end >= gear) & ((df_below.start-1) <= gear)].value]\n",
    "        except:\n",
    "            vals_below = []\n",
    "        df_cur = pd.DataFrame(res_val[key])\n",
    "        vals_cur = [int(el) for el in df_cur[(df_cur.end == gear) | (df_cur.start == (gear+1))].value]\n",
    "\n",
    "        all_vals = vals_above + vals_below + vals_cur\n",
    "        # print(all_vals)\n",
    "\n",
    "        if len(all_vals)>1:\n",
    "            all_ratios.append(np.prod(all_vals))\n",
    "\n",
    "\n",
    "print('Part 2: '+str(sum(all_ratios)))"
   ]
  },
  {
   "cell_type": "code",
   "execution_count": null,
   "id": "be7bbd4d-4061-45b0-b942-c45c81f1797d",
   "metadata": {},
   "outputs": [],
   "source": []
  }
 ],
 "metadata": {
  "kernelspec": {
   "display_name": "Python 3 (ipykernel)",
   "language": "python",
   "name": "python3"
  },
  "language_info": {
   "codemirror_mode": {
    "name": "ipython",
    "version": 3
   },
   "file_extension": ".py",
   "mimetype": "text/x-python",
   "name": "python",
   "nbconvert_exporter": "python",
   "pygments_lexer": "ipython3",
   "version": "3.11.5"
  }
 },
 "nbformat": 4,
 "nbformat_minor": 5
}
