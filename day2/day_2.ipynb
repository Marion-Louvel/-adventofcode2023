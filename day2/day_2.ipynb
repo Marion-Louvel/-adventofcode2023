{
 "cells": [
  {
   "cell_type": "code",
   "execution_count": 71,
   "id": "5ff2d9fc-a362-4f38-b6c5-7f7a559db002",
   "metadata": {},
   "outputs": [],
   "source": [
    "import pandas as pd\n",
    "import re\n",
    "import numpy as np\n"
   ]
  },
  {
   "cell_type": "code",
   "execution_count": 72,
   "id": "0c77e816-eb61-4305-b15e-400c17c006af",
   "metadata": {},
   "outputs": [],
   "source": [
    "with open('input.txt') as f:\n",
    "    lines = f.readlines()\n"
   ]
  },
  {
   "cell_type": "code",
   "execution_count": 112,
   "id": "477cf4b3-17c5-4cb6-ab89-73192b0dd944",
   "metadata": {},
   "outputs": [
    {
     "name": "stdout",
     "output_type": "stream",
     "text": [
      "part 1: 2486\n",
      "part 2: 87984\n"
     ]
    }
   ],
   "source": [
    "filter_dict = {'red':12, 'green':13, 'blue':14}\n",
    "\n",
    "counter = 0\n",
    "power = 0\n",
    "\n",
    "for line in lines:\n",
    "    game_id = int(re.match(\"(Game )(\\d*):\", line)[2])\n",
    "    quantities = []\n",
    "    colors = []\n",
    "    for el in line.replace(\"\\n\", \"\").split(\": \")[1].split(\"; \"):\n",
    "        for sub in el.split(\", \"):\n",
    "            quantities.append(int(sub.split(\" \")[0]))\n",
    "            colors.append(sub.split(\" \")[1])\n",
    "    \n",
    "    df = pd.DataFrame({'quantities':quantities, 'colors':colors}).sort_values('quantities', ascending=False).drop_duplicates('colors')\n",
    "    df['check'] = df['colors'].map(filter_dict) >= df['quantities']\n",
    "    power += np.prod(df.quantities)\n",
    "    if all(df.check):\n",
    "        counter += game_id\n",
    "\n",
    "print('part 1: '+ str(counter))\n",
    "print('part 2: '+ str(power))"
   ]
  }
 ],
 "metadata": {
  "kernelspec": {
   "display_name": "Python 3 (ipykernel)",
   "language": "python",
   "name": "python3"
  },
  "language_info": {
   "codemirror_mode": {
    "name": "ipython",
    "version": 3
   },
   "file_extension": ".py",
   "mimetype": "text/x-python",
   "name": "python",
   "nbconvert_exporter": "python",
   "pygments_lexer": "ipython3",
   "version": "3.11.5"
  }
 },
 "nbformat": 4,
 "nbformat_minor": 5
}
