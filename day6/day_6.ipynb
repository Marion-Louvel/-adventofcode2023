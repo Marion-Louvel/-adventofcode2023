{
 "cells": [
  {
   "cell_type": "code",
   "execution_count": 39,
   "id": "80d3b33d-b149-4a48-af31-e00318af9d75",
   "metadata": {},
   "outputs": [],
   "source": [
    "import numpy as np\n",
    "\n",
    "input = \"\"\"Time:        41     77     70     96\n",
    "Distance:   249   1362   1127   1011\"\"\".split(\"\\n\")\n",
    "\n",
    "times = [int(el) for el in input[0].split(\" \")[1:] if el != '']\n",
    "distances = [int(el) for el in input[1].split(\" \")[1:] if el != '']\n"
   ]
  },
  {
   "cell_type": "code",
   "execution_count": 40,
   "id": "3dca0437-e7c3-4790-9bb1-6cbf332879a8",
   "metadata": {},
   "outputs": [
    {
     "name": "stdout",
     "output_type": "stream",
     "text": [
      "Part 1: 771628\n"
     ]
    }
   ],
   "source": [
    "\n",
    "res = []\n",
    "for idx in range(len(times)):\n",
    "    tot = []\n",
    "    for num in [el for el in range(times[idx]+1)]:\n",
    "        my_dist = (times[idx]-num)*num\n",
    "        if my_dist > distances[idx]:\n",
    "            tot.append(my_dist)\n",
    "    \n",
    "    res.append(len(tot))\n",
    "\n",
    "print('Part 1: '+ str(np.prod(res)))"
   ]
  },
  {
   "cell_type": "code",
   "execution_count": 41,
   "id": "61187242-9a65-4e8b-807a-159bb256c645",
   "metadata": {},
   "outputs": [
    {
     "name": "stdout",
     "output_type": "stream",
     "text": [
      "Part 2: 27363861\n"
     ]
    }
   ],
   "source": [
    "import numpy as np\n",
    "\n",
    "input = \"\"\"Time:        41777096\n",
    "Distance:   249136211271011\"\"\".split(\"\\n\")\n",
    "\n",
    "times = [int(el) for el in input[0].split(\" \")[1:] if el != '']\n",
    "distances = [int(el) for el in input[1].split(\" \")[1:] if el != '']\n",
    "\n",
    "\n",
    "res = []\n",
    "for idx in range(len(times)):\n",
    "    tot = []\n",
    "    for num in [el for el in range(times[idx]+1)]:\n",
    "        my_dist = (times[idx]-num)*num\n",
    "        if my_dist > distances[idx]:\n",
    "            tot.append(my_dist)\n",
    "    \n",
    "    res.append(len(tot))\n",
    "\n",
    "print('Part 2: '+ str(np.prod(res)))"
   ]
  }
 ],
 "metadata": {
  "kernelspec": {
   "display_name": "Python 3 (ipykernel)",
   "language": "python",
   "name": "python3"
  },
  "language_info": {
   "codemirror_mode": {
    "name": "ipython",
    "version": 3
   },
   "file_extension": ".py",
   "mimetype": "text/x-python",
   "name": "python",
   "nbconvert_exporter": "python",
   "pygments_lexer": "ipython3",
   "version": "3.11.5"
  }
 },
 "nbformat": 4,
 "nbformat_minor": 5
}
