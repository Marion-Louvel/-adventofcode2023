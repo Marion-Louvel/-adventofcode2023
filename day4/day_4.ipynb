{
 "cells": [
  {
   "cell_type": "code",
   "execution_count": 121,
   "id": "b000195d-c832-4f0d-b1ab-bb9c863df2e7",
   "metadata": {},
   "outputs": [],
   "source": [
    "with open('input.txt') as f:\n",
    "    lines = f.readlines()\n",
    "\n",
    "for i in range(len(lines)):\n",
    "    lines[i] = lines[i].replace(\"\\n\", \"\")"
   ]
  },
  {
   "cell_type": "code",
   "execution_count": 122,
   "id": "43107779-5337-4ef8-bb9f-912ad6be7fb4",
   "metadata": {},
   "outputs": [
    {
     "name": "stdout",
     "output_type": "stream",
     "text": [
      "Part 1: 22488\n",
      "Part 2: 7013204\n"
     ]
    }
   ],
   "source": [
    "all_points = []\n",
    "n_matches = []\n",
    "for line in lines:\n",
    "    winning = [int(el) for el in line.split(\": \")[1].split(\" | \")[0].split(\" \") if el != '']\n",
    "    own = [int(el) for el in line.split(\": \")[1].split(\" | \")[1].split(\" \") if el != '']\n",
    "    n_winning = len(set(own).intersection(winning))\n",
    "    n_matches.append(n_winning)\n",
    "    if n_winning >0:\n",
    "        tot_points = 2**(n_winning-1)\n",
    "    else:\n",
    "        tot_points = 0\n",
    "    all_points.append(tot_points)\n",
    "\n",
    "print('Part 1: '+str(sum(all_points)))\n",
    "\n",
    "\n",
    "my_list = [1]*len(lines)\n",
    "\n",
    "for idx in range(len(my_list)):\n",
    "    my_list[(idx+1):(idx+n_matches[idx]+1)] = [el + my_list[idx] for el in my_list[(idx+1):(idx+n_matches[idx]+1)]]\n",
    "\n",
    "print('Part 2: '+str(sum(my_list)))\n"
   ]
  }
 ],
 "metadata": {
  "kernelspec": {
   "display_name": "Python 3 (ipykernel)",
   "language": "python",
   "name": "python3"
  },
  "language_info": {
   "codemirror_mode": {
    "name": "ipython",
    "version": 3
   },
   "file_extension": ".py",
   "mimetype": "text/x-python",
   "name": "python",
   "nbconvert_exporter": "python",
   "pygments_lexer": "ipython3",
   "version": "3.11.5"
  }
 },
 "nbformat": 4,
 "nbformat_minor": 5
}
